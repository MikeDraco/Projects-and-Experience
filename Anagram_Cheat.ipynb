{
 "cells": [
  {
   "cell_type": "markdown",
   "metadata": {},
   "source": [
    "# Game Pigeon Anagram Cheat"
   ]
  },
  {
   "cell_type": "markdown",
   "metadata": {},
   "source": [
    "The following code is used in a game pigeon game on the iphone. I hae been playing my girlfriend alot lately and wanted to create something that gave me the upper hand. The object of the game is to create 3 to 6 letter words in 60 seconds with the letters given to you. It ask you to input the letters and then will return all possible combinations(The words list I used is large but does not contain every word in the dictionary and it also contains words that the game does not recgonize). With more time I plan to have the software read the game so there is no manual entry and remove words the game does not recgonize."
   ]
  },
  {
   "cell_type": "code",
   "execution_count": 60,
   "metadata": {},
   "outputs": [
    {
     "name": "stdout",
     "output_type": "stream",
     "text": [
      "236736\n"
     ]
    }
   ],
   "source": [
    "import pandas as pd\n",
    "import numpy as np\n",
    "from nltk.corpus import words\n",
    "import itertools\n",
    "from numpy import loadtxt\n",
    "\n",
    "#use words from nltk.corpus \n",
    "word_list = words.words()\n",
    "\n",
    "# prints 236736\n",
    "print(len(word_list))\n",
    "\n",
    "#make sure all words are lowercased\n",
    "lower_words=list(map(lambda x: x.lower(), word_list))"
   ]
  },
  {
   "cell_type": "code",
   "execution_count": 61,
   "metadata": {},
   "outputs": [],
   "source": [
    "#use this function to get all permuations\n",
    "def all_possible_perms(my_list):\n",
    "    new_list=[*my_list]\n",
    "    output=[]\n",
    "    for i in range(3,7):\n",
    "        permutations = list(itertools.permutations(new_list,i))\n",
    "        output_perms=[''.join(permutation) for permutation in permutations]\n",
    "        output+=output_perms\n",
    "    return output\n",
    "    \n",
    "    \n",
    "    "
   ]
  },
  {
   "cell_type": "code",
   "execution_count": 65,
   "metadata": {
    "scrolled": true
   },
   "outputs": [
    {
     "name": "stdout",
     "output_type": "stream",
     "text": [
      "What are the letters used for the game? taodis\n",
      "['staid', 'diota', 'odist', 'sitao', 'staio', 'stod', 'stoa', 'taos', 'dasi', 'dosa', 'soda', 'otis', 'tiao', 'toad', 'disa', 'toda', 'doit', 'sida', 'doat', 'stid', 'tsia', 'sita', 'oast', 'adit', 'sado', 'atis', 'said', 'dita', 'dais', 'iota', 'dao', 'das', 'sao', 'ist', 'tad', 'ida', 'ado', 'dis', 'ait', 'sot', 'tod', 'ita', 'sad', 'toa', 'sid', 'oat', 'ast', 'aid', 'oda', 'tao', 'dos', 'sit', 'iao', 'sod', 'tai', 'sia', 'tid', 'ido', 'dot', 'sat', 'ods', 'toi', 'ito', 'its', 'dit', 'iso', 'ati', 'sai']\n"
     ]
    }
   ],
   "source": [
    "while True:\n",
    "    anagram_list=input(\"What are the letters used for the game?(ex. 'abcdef') \")\n",
    "    if not anagram_list.isalpha():\n",
    "        print(\"Please enter a valid string.\")\n",
    "    else:\n",
    "        break\n",
    "        \n",
    "output = all_possible_perms(anagram_list)\n",
    "\n",
    "#compare the words in the word list to the permutations and take the ones that appear in both \n",
    "solution = list(set([''.join(i) for i in output]).intersection(lower_words))\n",
    "solution.sort(reverse=True,key=len)\n",
    "\n",
    "# Solution is printed from longest words first since they get the most points\n",
    "print(solution)\n",
    "\n",
    "\n",
    "\n",
    "\n"
   ]
  }
 ],
 "metadata": {
  "kernelspec": {
   "display_name": "Python 3",
   "language": "python",
   "name": "python3"
  }
 },
 "nbformat": 4,
 "nbformat_minor": 4
}
